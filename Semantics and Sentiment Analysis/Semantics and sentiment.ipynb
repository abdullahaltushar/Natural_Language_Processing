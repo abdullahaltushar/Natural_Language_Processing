{
 "cells": [
  {
   "cell_type": "code",
   "execution_count": 1,
   "id": "ffebf936",
   "metadata": {},
   "outputs": [],
   "source": [
    "import spacy"
   ]
  },
  {
   "cell_type": "code",
   "execution_count": 2,
   "id": "19370978",
   "metadata": {},
   "outputs": [],
   "source": [
    "nlp=spacy.load('en_core_web_lg')"
   ]
  },
  {
   "cell_type": "code",
   "execution_count": 3,
   "id": "ce282369",
   "metadata": {},
   "outputs": [
    {
     "data": {
      "text/plain": [
       "(300,)"
      ]
     },
     "execution_count": 3,
     "metadata": {},
     "output_type": "execute_result"
    }
   ],
   "source": [
    "nlp(u\"The quick brown fox jumped\").vector.shape"
   ]
  },
  {
   "cell_type": "code",
   "execution_count": 4,
   "id": "3cdf6ebf",
   "metadata": {},
   "outputs": [
    {
     "data": {
      "text/plain": [
       "(300,)"
      ]
     },
     "execution_count": 4,
     "metadata": {},
     "output_type": "execute_result"
    }
   ],
   "source": [
    "nlp(u'fox').vector.shape"
   ]
  },
  {
   "cell_type": "code",
   "execution_count": 5,
   "id": "60b23e54",
   "metadata": {},
   "outputs": [],
   "source": [
    "tokens=nlp(u'Like Love Hate')"
   ]
  },
  {
   "cell_type": "code",
   "execution_count": 6,
   "id": "eb3ccec2",
   "metadata": {},
   "outputs": [
    {
     "name": "stdout",
     "output_type": "stream",
     "text": [
      "Like Like 1.0\n",
      "Like Love 0.6579040288925171\n",
      "Like Hate 0.6574652194976807\n",
      "Love Like 0.6579040288925171\n",
      "Love Love 1.0\n",
      "Love Hate 0.6393098831176758\n",
      "Hate Like 0.6574652194976807\n",
      "Hate Love 0.6393098831176758\n",
      "Hate Hate 1.0\n"
     ]
    }
   ],
   "source": [
    "for token in tokens:\n",
    "    for token2 in tokens:\n",
    "        print(token.text, token2.text, token.similarity(token2))"
   ]
  },
  {
   "cell_type": "code",
   "execution_count": 7,
   "id": "20960086",
   "metadata": {},
   "outputs": [
    {
     "data": {
      "text/plain": [
       "342918"
      ]
     },
     "execution_count": 7,
     "metadata": {},
     "output_type": "execute_result"
    }
   ],
   "source": [
    "len(nlp.vocab.vectors)"
   ]
  },
  {
   "cell_type": "code",
   "execution_count": 8,
   "id": "df8742ba",
   "metadata": {},
   "outputs": [],
   "source": [
    "tokens=nlp(u\"Dog cat margle\")"
   ]
  },
  {
   "cell_type": "code",
   "execution_count": 9,
   "id": "8eac8c2a",
   "metadata": {},
   "outputs": [
    {
     "name": "stdout",
     "output_type": "stream",
     "text": [
      "Dog True 7.0336733 False\n",
      "cat True 6.6808186 False\n",
      "margle False 0.0 True\n"
     ]
    }
   ],
   "source": [
    "#vactor value exsiting  check, and vactor object exsiting check\n",
    "for token in tokens:\n",
    "    print(token.text,token.has_vector,token.vector_norm, token.is_oov)"
   ]
  },
  {
   "cell_type": "code",
   "execution_count": 10,
   "id": "b501e215",
   "metadata": {},
   "outputs": [],
   "source": [
    "from scipy import spatial\n",
    "cosine_similarity= lambda vec1,vec2: 1-spatial.distance.cosine(vec1,vec2)"
   ]
  },
  {
   "cell_type": "code",
   "execution_count": 11,
   "id": "3993dd8d",
   "metadata": {},
   "outputs": [],
   "source": [
    "king =nlp.vocab['king'].vector\n",
    "man=nlp.vocab['man'].vector\n",
    "woman = nlp.vocab['woman'].vector"
   ]
  },
  {
   "cell_type": "code",
   "execution_count": 12,
   "id": "d8442060",
   "metadata": {},
   "outputs": [],
   "source": [
    "#kin-man+woman---> New_VECTOR similar Queen, princess, highnessabs\n",
    "new_vECTOE=king-man+woman"
   ]
  },
  {
   "cell_type": "code",
   "execution_count": 13,
   "id": "ee085273",
   "metadata": {},
   "outputs": [],
   "source": [
    "computed_similarities=[]\n",
    "\n",
    "for word in nlp.vocab:\n",
    "    if word.has_vector:\n",
    "        if word.is_lower:\n",
    "            if word.is_alpha:\n",
    "                similarity=cosine_similarity(new_vECTOE,word.vector)\n",
    "                computed_similarities.append((word,similarity))"
   ]
  },
  {
   "cell_type": "code",
   "execution_count": 14,
   "id": "6e5e60ea",
   "metadata": {},
   "outputs": [],
   "source": [
    "computed_similarities=sorted(computed_similarities,key=lambda item:-item[1])"
   ]
  },
  {
   "cell_type": "code",
   "execution_count": 15,
   "id": "e69f11ba",
   "metadata": {},
   "outputs": [
    {
     "name": "stdout",
     "output_type": "stream",
     "text": [
      "['king', 'woman', 'she', 'who', 'fox', 'brown', 'when', 'dare', 'cat', 'was']\n"
     ]
    }
   ],
   "source": [
    "print([t[0].text for t in computed_similarities[:10]])"
   ]
  },
  {
   "cell_type": "code",
   "execution_count": 16,
   "id": "b2bdffa6",
   "metadata": {},
   "outputs": [
    {
     "name": "stderr",
     "output_type": "stream",
     "text": [
      "[nltk_data] Downloading package vader_lexicon to C:\\Users\\Harunur\n",
      "[nltk_data]     Roshid\\AppData\\Roaming\\nltk_data...\n",
      "[nltk_data]   Package vader_lexicon is already up-to-date!\n"
     ]
    },
    {
     "data": {
      "text/plain": [
       "True"
      ]
     },
     "execution_count": 16,
     "metadata": {},
     "output_type": "execute_result"
    }
   ],
   "source": [
    "import nltk\n",
    "nltk.download('vader_lexicon')"
   ]
  },
  {
   "cell_type": "code",
   "execution_count": 17,
   "id": "12061fd0",
   "metadata": {},
   "outputs": [],
   "source": [
    "from nltk.sentiment.vader import SentimentIntensityAnalyzer"
   ]
  },
  {
   "cell_type": "code",
   "execution_count": 18,
   "id": "04b77fc1",
   "metadata": {},
   "outputs": [],
   "source": [
    "sid= SentimentIntensityAnalyzer()"
   ]
  },
  {
   "cell_type": "code",
   "execution_count": 19,
   "id": "7f3c88ef",
   "metadata": {},
   "outputs": [],
   "source": [
    "a=\"this is a good movie\""
   ]
  },
  {
   "cell_type": "code",
   "execution_count": 20,
   "id": "506ea3d3",
   "metadata": {},
   "outputs": [
    {
     "data": {
      "text/plain": [
       "{'neg': 0.0, 'neu': 0.508, 'pos': 0.492, 'compound': 0.4404}"
      ]
     },
     "execution_count": 20,
     "metadata": {},
     "output_type": "execute_result"
    }
   ],
   "source": [
    "sid.polarity_scores(a)"
   ]
  },
  {
   "cell_type": "code",
   "execution_count": 21,
   "id": "7dc99ba7",
   "metadata": {},
   "outputs": [],
   "source": [
    "a=\"This was the best, most awesome moive EVER MADE!!\""
   ]
  },
  {
   "cell_type": "code",
   "execution_count": 22,
   "id": "76e9d46f",
   "metadata": {},
   "outputs": [
    {
     "data": {
      "text/plain": [
       "{'neg': 0.0, 'neu': 0.433, 'pos': 0.567, 'compound': 0.88}"
      ]
     },
     "execution_count": 22,
     "metadata": {},
     "output_type": "execute_result"
    }
   ],
   "source": [
    "sid.polarity_scores(a)"
   ]
  },
  {
   "cell_type": "code",
   "execution_count": 23,
   "id": "37bf7ec5",
   "metadata": {},
   "outputs": [],
   "source": [
    "a=\"This was the WORST movie tha has ever disgraced the screen.\""
   ]
  },
  {
   "cell_type": "code",
   "execution_count": 24,
   "id": "2efbe332",
   "metadata": {},
   "outputs": [
    {
     "data": {
      "text/plain": [
       "{'neg': 0.465, 'neu': 0.535, 'pos': 0.0, 'compound': -0.8331}"
      ]
     },
     "execution_count": 24,
     "metadata": {},
     "output_type": "execute_result"
    }
   ],
   "source": [
    "sid.polarity_scores(a)"
   ]
  },
  {
   "cell_type": "code",
   "execution_count": 25,
   "id": "76514bb6",
   "metadata": {},
   "outputs": [],
   "source": [
    "import pandas as pd"
   ]
  },
  {
   "cell_type": "code",
   "execution_count": 26,
   "id": "ad977528",
   "metadata": {},
   "outputs": [],
   "source": [
    "df=pd.read_csv('test.csv')"
   ]
  },
  {
   "cell_type": "code",
   "execution_count": 27,
   "id": "8879ace3",
   "metadata": {},
   "outputs": [
    {
     "data": {
      "text/html": [
       "<div>\n",
       "<style scoped>\n",
       "    .dataframe tbody tr th:only-of-type {\n",
       "        vertical-align: middle;\n",
       "    }\n",
       "\n",
       "    .dataframe tbody tr th {\n",
       "        vertical-align: top;\n",
       "    }\n",
       "\n",
       "    .dataframe thead th {\n",
       "        text-align: right;\n",
       "    }\n",
       "</style>\n",
       "<table border=\"1\" class=\"dataframe\">\n",
       "  <thead>\n",
       "    <tr style=\"text-align: right;\">\n",
       "      <th></th>\n",
       "      <th>sentiment</th>\n",
       "      <th>senti_text</th>\n",
       "      <th>text</th>\n",
       "    </tr>\n",
       "  </thead>\n",
       "  <tbody>\n",
       "    <tr>\n",
       "      <th>0</th>\n",
       "      <td>2</td>\n",
       "      <td>Great CD</td>\n",
       "      <td>My lovely Pat has one of the GREAT voices of h...</td>\n",
       "    </tr>\n",
       "    <tr>\n",
       "      <th>1</th>\n",
       "      <td>2</td>\n",
       "      <td>One of the best game music soundtracks - for a...</td>\n",
       "      <td>Despite the fact that I have only played a sma...</td>\n",
       "    </tr>\n",
       "    <tr>\n",
       "      <th>2</th>\n",
       "      <td>1</td>\n",
       "      <td>Batteries died within a year ...</td>\n",
       "      <td>I bought this charger in Jul 2003 and it worke...</td>\n",
       "    </tr>\n",
       "    <tr>\n",
       "      <th>3</th>\n",
       "      <td>2</td>\n",
       "      <td>works fine, but Maha Energy is better</td>\n",
       "      <td>Check out Maha Energy's website. Their Powerex...</td>\n",
       "    </tr>\n",
       "    <tr>\n",
       "      <th>4</th>\n",
       "      <td>2</td>\n",
       "      <td>Great for the non-audiophile</td>\n",
       "      <td>Reviewed quite a bit of the combo players and ...</td>\n",
       "    </tr>\n",
       "    <tr>\n",
       "      <th>...</th>\n",
       "      <td>...</td>\n",
       "      <td>...</td>\n",
       "      <td>...</td>\n",
       "    </tr>\n",
       "    <tr>\n",
       "      <th>399995</th>\n",
       "      <td>1</td>\n",
       "      <td>Unbelievable- In a Bad Way</td>\n",
       "      <td>We bought this Thomas for our son who is a hug...</td>\n",
       "    </tr>\n",
       "    <tr>\n",
       "      <th>399996</th>\n",
       "      <td>1</td>\n",
       "      <td>Almost Great, Until it Broke...</td>\n",
       "      <td>My son recieved this as a birthday gift 2 mont...</td>\n",
       "    </tr>\n",
       "    <tr>\n",
       "      <th>399997</th>\n",
       "      <td>1</td>\n",
       "      <td>Disappointed !!!</td>\n",
       "      <td>I bought this toy for my son who loves the \"Th...</td>\n",
       "    </tr>\n",
       "    <tr>\n",
       "      <th>399998</th>\n",
       "      <td>2</td>\n",
       "      <td>Classic Jessica Mitford</td>\n",
       "      <td>This is a compilation of a wide range of Mitfo...</td>\n",
       "    </tr>\n",
       "    <tr>\n",
       "      <th>399999</th>\n",
       "      <td>1</td>\n",
       "      <td>Comedy Scene, and Not Heard</td>\n",
       "      <td>This DVD will be a disappointment if you get i...</td>\n",
       "    </tr>\n",
       "  </tbody>\n",
       "</table>\n",
       "<p>400000 rows × 3 columns</p>\n",
       "</div>"
      ],
      "text/plain": [
       "        sentiment                                         senti_text  \\\n",
       "0               2                                           Great CD   \n",
       "1               2  One of the best game music soundtracks - for a...   \n",
       "2               1                   Batteries died within a year ...   \n",
       "3               2              works fine, but Maha Energy is better   \n",
       "4               2                       Great for the non-audiophile   \n",
       "...           ...                                                ...   \n",
       "399995          1                         Unbelievable- In a Bad Way   \n",
       "399996          1                    Almost Great, Until it Broke...   \n",
       "399997          1                                   Disappointed !!!   \n",
       "399998          2                            Classic Jessica Mitford   \n",
       "399999          1                        Comedy Scene, and Not Heard   \n",
       "\n",
       "                                                     text  \n",
       "0       My lovely Pat has one of the GREAT voices of h...  \n",
       "1       Despite the fact that I have only played a sma...  \n",
       "2       I bought this charger in Jul 2003 and it worke...  \n",
       "3       Check out Maha Energy's website. Their Powerex...  \n",
       "4       Reviewed quite a bit of the combo players and ...  \n",
       "...                                                   ...  \n",
       "399995  We bought this Thomas for our son who is a hug...  \n",
       "399996  My son recieved this as a birthday gift 2 mont...  \n",
       "399997  I bought this toy for my son who loves the \"Th...  \n",
       "399998  This is a compilation of a wide range of Mitfo...  \n",
       "399999  This DVD will be a disappointment if you get i...  \n",
       "\n",
       "[400000 rows x 3 columns]"
      ]
     },
     "execution_count": 27,
     "metadata": {},
     "output_type": "execute_result"
    }
   ],
   "source": [
    "df"
   ]
  },
  {
   "cell_type": "code",
   "execution_count": null,
   "id": "efcc79b0",
   "metadata": {},
   "outputs": [],
   "source": []
  }
 ],
 "metadata": {
  "kernelspec": {
   "display_name": "Python 3 (ipykernel)",
   "language": "python",
   "name": "python3"
  },
  "language_info": {
   "codemirror_mode": {
    "name": "ipython",
    "version": 3
   },
   "file_extension": ".py",
   "mimetype": "text/x-python",
   "name": "python",
   "nbconvert_exporter": "python",
   "pygments_lexer": "ipython3",
   "version": "3.9.7"
  }
 },
 "nbformat": 4,
 "nbformat_minor": 5
}
