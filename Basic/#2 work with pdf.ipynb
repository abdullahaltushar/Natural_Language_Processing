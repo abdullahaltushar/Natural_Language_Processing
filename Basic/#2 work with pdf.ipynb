{
 "cells": [
  {
   "cell_type": "code",
   "execution_count": 1,
   "id": "0e17308b",
   "metadata": {},
   "outputs": [],
   "source": [
    "import PyPDF2"
   ]
  },
  {
   "cell_type": "code",
   "execution_count": 2,
   "id": "92bdc146",
   "metadata": {},
   "outputs": [],
   "source": [
    "myfile=open('Declaration.pdf', mode='rb')"
   ]
  },
  {
   "cell_type": "code",
   "execution_count": 3,
   "id": "48ea41c5",
   "metadata": {},
   "outputs": [
    {
     "name": "stderr",
     "output_type": "stream",
     "text": [
      "C:\\ProgramData\\Anaconda3\\lib\\site-packages\\PyPDF2\\_reader.py:1360: PdfReadWarning: Xref table not zero-indexed. ID numbers for objects will be corrected.\n",
      "  warnings.warn(\n"
     ]
    }
   ],
   "source": [
    "pdf_reader=PyPDF2.PdfFileReader(myfile)"
   ]
  },
  {
   "cell_type": "code",
   "execution_count": 4,
   "id": "fdc817cc",
   "metadata": {},
   "outputs": [
    {
     "data": {
      "text/plain": [
       "3"
      ]
     },
     "execution_count": 4,
     "metadata": {},
     "output_type": "execute_result"
    }
   ],
   "source": [
    "pdf_reader.numPages"
   ]
  },
  {
   "cell_type": "code",
   "execution_count": 5,
   "id": "b5c708b6",
   "metadata": {},
   "outputs": [],
   "source": [
    "page_one=pdf_reader.getPage(0)"
   ]
  },
  {
   "cell_type": "code",
   "execution_count": 6,
   "id": "2b8d0f91",
   "metadata": {},
   "outputs": [
    {
     "name": "stdout",
     "output_type": "stream",
     "text": [
      "The Declaration of Independence:  Read the Declaration   (Continued)\n",
      "\n",
      "The Declaration of Independence\n",
      "Action of Second Continental Congress,\n",
      "July 4, 1776. \n",
      "The unanimous Declaration of the thirteen united States of America,\n",
      "When in the Course of human Events, it becomes necessary for one People to dissolve the Political Bands  \n",
      "which have connected them with another, and to assume among the Powers of the Earth, the separate and equal \n",
      "Station to which the Laws of Nature and of Nature’s God entitle them, a decent Respect to the Opinions of  \n",
      "Mankind requires that they should declare the causes which impel them to the Separation.\n",
      "We hold these Truths to be self-evident, that all Men are created equal, that they are endowed by their Creator with \n",
      "certain unalienable Rights, that among these are Life, Liberty, and the Pursuit of Happiness—That to secure these \n",
      "Rights, Governments are instituted among Men, deriving their just Powers from the Consent of the Governed, that \n",
      "whenever any form of Government becomes destructive of these Ends, it is the Right of the People to alter or to \n",
      "abolish it, and to institute new Government, laying its Foundation on such Principles, and organizing its Powers in \n",
      "such form, as to them shall seem most likely to effect their Safety and Happiness. Prudence, indeed, will dictate that \n",
      "Governments long established should not be changed for light and transient Causes; and accordingly all Experi-\n",
      "ence hath shewn, that Mankind are more disposed to suffer, while Evils are sufferable, than to right themselves by \n",
      "abolishing the forms to which they are accustomed. But when a long Train of Abuses and Usurpations, pursuing \n",
      "invariably the same Object, evinces a Design to reduce them under absolute Despotism, it is their Right, it is their \n",
      "Duty, to throw off such Government, and to provide new Guards for their future Security. Such has been the patient \n",
      "Sufferance of these Colonies; and such is now the Necessity which constrains them to alter their former Systems \n",
      "of Government. The History of the present King of Great-Britain is a History of repeated Injuries and Usurpations, \n",
      "all having in direct Object the Establishment of an absolute Tyranny over these States. To prove this, let Facts be \n",
      "submitted to a candid World. \n",
      " \n",
      "He has refused his Assent to Laws, the most wholesome and necessary for the public Good.\n",
      " \n",
      "He has forbidden his Governors to pass Laws of immediate and pressing Importance, unless suspended in their \n",
      "Operation till his Assent should be obtained; and when so suspended, he has utterly neglected to attend to them.\n",
      " \n",
      "He has refused to pass other Laws for the Accommodation of large Districts of People, unless those People would \n",
      "relinquish the Right of Representation in the Legislature, a Right inestimable to them, and formidable to Tyrants only.\n",
      "He has called together Legislative Bodies at Places unusual, uncomfortable, and distant from the Depository of their \n",
      "public Records, for the sole Purpose of fatiguing them into Compliance with his Measures.\n",
      " \n",
      "He has dissolved Representative Houses repeatedly, for opposing with manly Firmness his Invasions on the Rights \n",
      "of the People.\n",
      "He has refused for a long Time, after such Dissolutions, to cause others to be elected; whereby the Legislative \n",
      "Powers, incapable of Annihilation, have returned to the People at large for their exercise; the State remaining in the \n",
      "mean time exposed to all the Dangers of Invasion from without, and Convulsions within.\n"
     ]
    }
   ],
   "source": [
    "print(page_one.extract_text())"
   ]
  },
  {
   "cell_type": "code",
   "execution_count": 7,
   "id": "2f2db4f8",
   "metadata": {},
   "outputs": [],
   "source": [
    "myfile.close()"
   ]
  },
  {
   "cell_type": "code",
   "execution_count": 8,
   "id": "59bc424d",
   "metadata": {},
   "outputs": [],
   "source": [
    "f=open('Declaration.pdf','rb')"
   ]
  },
  {
   "cell_type": "code",
   "execution_count": 9,
   "id": "817a3bd4",
   "metadata": {},
   "outputs": [],
   "source": [
    "pdf_reader=PyPDF2.PdfFileReader(f)"
   ]
  },
  {
   "cell_type": "code",
   "execution_count": 10,
   "id": "e119ba51",
   "metadata": {},
   "outputs": [],
   "source": [
    "first_paage=pdf_reader.getPage(0)"
   ]
  },
  {
   "cell_type": "code",
   "execution_count": 11,
   "id": "445b8ef4",
   "metadata": {},
   "outputs": [],
   "source": [
    "pdf_writer=PyPDF2.PdfFileWriter()"
   ]
  },
  {
   "cell_type": "code",
   "execution_count": 12,
   "id": "e65aab07",
   "metadata": {},
   "outputs": [],
   "source": [
    "pdf_writer.addPage(first_paage)"
   ]
  },
  {
   "cell_type": "code",
   "execution_count": 13,
   "id": "d40d0eb0",
   "metadata": {},
   "outputs": [],
   "source": [
    "pdf_output=open('My_brand_new.pdf','wb')"
   ]
  },
  {
   "cell_type": "code",
   "execution_count": 14,
   "id": "6aa21d55",
   "metadata": {},
   "outputs": [],
   "source": [
    "pdf_writer.write(pdf_output)"
   ]
  },
  {
   "cell_type": "code",
   "execution_count": 15,
   "id": "5fdb2a62",
   "metadata": {},
   "outputs": [],
   "source": [
    "pdf_output.close()"
   ]
  },
  {
   "cell_type": "code",
   "execution_count": 16,
   "id": "9c5029b2",
   "metadata": {},
   "outputs": [],
   "source": [
    "f.close()"
   ]
  },
  {
   "cell_type": "code",
   "execution_count": null,
   "id": "1d5a845e",
   "metadata": {},
   "outputs": [],
   "source": [
    "\n"
   ]
  },
  {
   "cell_type": "code",
   "execution_count": 17,
   "id": "5eae6f88",
   "metadata": {},
   "outputs": [],
   "source": [
    "brand_new=open('My_brand_new.pdf','rb')\n",
    "pdf_reader=PyPDF2.PdfFileReader(brand_new)"
   ]
  },
  {
   "cell_type": "code",
   "execution_count": 18,
   "id": "bed96128",
   "metadata": {},
   "outputs": [
    {
     "data": {
      "text/plain": [
       "1"
      ]
     },
     "execution_count": 18,
     "metadata": {},
     "output_type": "execute_result"
    }
   ],
   "source": [
    "pdf_reader.numPages"
   ]
  },
  {
   "cell_type": "code",
   "execution_count": 19,
   "id": "0f98511e",
   "metadata": {},
   "outputs": [],
   "source": [
    "f=open('Declaration.pdf','rb')\n",
    "pdf_text=[0]\n",
    "\n",
    "pdf_reader=PyPDF2.PdfFileReader(f)\n",
    "for p in range(pdf_reader.numPages):\n",
    "    page=pdf_reader.getPage(p)\n",
    "    pdf_text.append(page.extractText())\n",
    "f.close()"
   ]
  },
  {
   "cell_type": "code",
   "execution_count": 20,
   "id": "28224e35",
   "metadata": {},
   "outputs": [
    {
     "data": {
      "text/plain": [
       "4"
      ]
     },
     "execution_count": 20,
     "metadata": {},
     "output_type": "execute_result"
    }
   ],
   "source": [
    "len(pdf_text)"
   ]
  },
  {
   "cell_type": "code",
   "execution_count": 21,
   "id": "93c9d3a1",
   "metadata": {},
   "outputs": [
    {
     "name": "stdout",
     "output_type": "stream",
     "text": [
      "0\n",
      "\n",
      "\n",
      "\n",
      "\n",
      "\n",
      "\n",
      "\n",
      "\n",
      "The Declaration of Independence:  Read the Declaration   (Continued)\n",
      "\n",
      "The Declaration of Independence\n",
      "Action of Second Continental Congress,\n",
      "July 4, 1776. \n",
      "The unanimous Declaration of the thirteen united States of America,\n",
      "When in the Course of human Events, it becomes necessary for one People to dissolve the Political Bands  \n",
      "which have connected them with another, and to assume among the Powers of the Earth, the separate and equal \n",
      "Station to which the Laws of Nature and of Nature’s God entitle them, a decent Respect to the Opinions of  \n",
      "Mankind requires that they should declare the causes which impel them to the Separation.\n",
      "We hold these Truths to be self-evident, that all Men are created equal, that they are endowed by their Creator with \n",
      "certain unalienable Rights, that among these are Life, Liberty, and the Pursuit of Happiness—That to secure these \n",
      "Rights, Governments are instituted among Men, deriving their just Powers from the Consent of the Governed, that \n",
      "whenever any form of Government becomes destructive of these Ends, it is the Right of the People to alter or to \n",
      "abolish it, and to institute new Government, laying its Foundation on such Principles, and organizing its Powers in \n",
      "such form, as to them shall seem most likely to effect their Safety and Happiness. Prudence, indeed, will dictate that \n",
      "Governments long established should not be changed for light and transient Causes; and accordingly all Experi-\n",
      "ence hath shewn, that Mankind are more disposed to suffer, while Evils are sufferable, than to right themselves by \n",
      "abolishing the forms to which they are accustomed. But when a long Train of Abuses and Usurpations, pursuing \n",
      "invariably the same Object, evinces a Design to reduce them under absolute Despotism, it is their Right, it is their \n",
      "Duty, to throw off such Government, and to provide new Guards for their future Security. Such has been the patient \n",
      "Sufferance of these Colonies; and such is now the Necessity which constrains them to alter their former Systems \n",
      "of Government. The History of the present King of Great-Britain is a History of repeated Injuries and Usurpations, \n",
      "all having in direct Object the Establishment of an absolute Tyranny over these States. To prove this, let Facts be \n",
      "submitted to a candid World. \n",
      " \n",
      "He has refused his Assent to Laws, the most wholesome and necessary for the public Good.\n",
      " \n",
      "He has forbidden his Governors to pass Laws of immediate and pressing Importance, unless suspended in their \n",
      "Operation till his Assent should be obtained; and when so suspended, he has utterly neglected to attend to them.\n",
      " \n",
      "He has refused to pass other Laws for the Accommodation of large Districts of People, unless those People would \n",
      "relinquish the Right of Representation in the Legislature, a Right inestimable to them, and formidable to Tyrants only.\n",
      "He has called together Legislative Bodies at Places unusual, uncomfortable, and distant from the Depository of their \n",
      "public Records, for the sole Purpose of fatiguing them into Compliance with his Measures.\n",
      " \n",
      "He has dissolved Representative Houses repeatedly, for opposing with manly Firmness his Invasions on the Rights \n",
      "of the People.\n",
      "He has refused for a long Time, after such Dissolutions, to cause others to be elected; whereby the Legislative \n",
      "Powers, incapable of Annihilation, have returned to the People at large for their exercise; the State remaining in the \n",
      "mean time exposed to all the Dangers of Invasion from without, and Convulsions within.\n",
      "\n",
      "\n",
      "\n",
      "\n",
      "\n",
      "\n",
      "\n",
      "\n",
      "The Declaration of Independence:  Read the Declaration   (Continued)\n",
      "\n",
      "He has endeavoured to prevent the Population of these States; for that Purpose obstructing the Laws for  \n",
      "Naturalization of foreigners; refusing to pass others to encourage their Migrations hither, and raising the Conditions \n",
      "of new Appropriations of Lands. \n",
      "He has obstructed the Administration of Justice, by refusing his assent to Laws for establishing Judiciary Powers. \n",
      "He has made Judges dependent on his Will alone, for the Tenure of their Offices, and the Amount and Payment  \n",
      "of their Salaries.\n",
      "He has erected a Multitude of new Offices, and sent hither Swarms of Officers to harrass our People, and eat  \n",
      "out their Substance. \n",
      "He has kept among us, in Times of Peace, Standing Armies, without the consent of our Legislatures. \n",
      "He has affected to render the Military independent of and superior to the Civil Power. \n",
      "He has combined with others to subject us to a Jurisdiction foreign to our Constitution, and unacknowledged  \n",
      "by our Laws; giving his Assent to their Acts of pretended Legislation: \n",
      "For quartering large Bodies of Armed Troops among us: \n",
      "For protecting them, by a mock Trial, from Punishment for any Murders which they should commit on the  \n",
      "Inhabitants of these States:\n",
      "For cutting off our Trade with all Parts of the World:\n",
      "For imposing Taxes on us without our Consent:\n",
      "For depriving us, in many Cases, of the Benefits of Trial by Jury:\n",
      "For transporting us beyond Seas to be tried for pretended Offences:\n",
      "For abolishing the free System of English Laws in a neighbouring Province, establishing therein an arbitrary  \n",
      "Government and enlarging its Boundaries, so as to render it at once an Example and fit Instrument for introducing \n",
      "the same absolute Rule into these Colonies:\n",
      "For taking away our Charters, abolishing our most valuable Laws, and altering fundamentally the forms  \n",
      "of our Governments:\n",
      "For suspending our own Legislatures, and declaring themselves invested with Power to legislate for us  \n",
      "in all Cases whatsoever.\n",
      "He has abdicated Government here, by declaring us out of his Protection and waging War against us.\n",
      "He has plundered our Seas, ravaged our Coasts, burnt our Towns, and destroyed the Lives of our People. \n",
      "2\n",
      "\n",
      "\n",
      "\n",
      "\n",
      "\n",
      "\n",
      "\n",
      "\n",
      "The Declaration of Independence:  Read the Declaration   (Continued)\n",
      "\n",
      "He is, at this Time, transporting large Armies of foreign Mercenaries to compleat the Works of Death, Desolation, \n",
      "and Tyranny already begun with circumstances of Cruelty and Perfidy, scarcely paralleled in the most barbarous \n",
      "Ages, and totally unworthy of the Head of a civilized Nation.\n",
      "He has constrained our fellow Citizens taken Captive on the high Seas to bear Arms against their Country,  \n",
      "to become the Executioners of their friends and Brethren, or to fall themselves by their Hands.\n",
      "He has excited domestic Insurrections amongst us, and has endeavoured to bring on the Inhabitants of our  \n",
      "Frontiers, the merciless Indian Savages, whose known Rule of Warfare, is an undistinguished Destruction,  \n",
      "of all Ages, Sexes and Conditions.\n",
      "In has refusedevery stage of these Oppressions we have Petitioned for Redress in the most humble Terms:  \n",
      "Our repeated Petitions have been answered only by repeated Injury. A Prince, whose Character is thus marked  \n",
      "by every act which may define a Tyrant, is unfit to be the Ruler of a free People.\n",
      "Nor have we been wanting in Attentions to our British Brethren. We have warned them from Time to Time of  \n",
      "Attempts by their Legislature to extend an unwarrantable jurisdiction over us. We have reminded them of the  \n",
      "Circumstances of our Emigration and Settlement here. We have appealed to their native justice and Magnanimity, \n",
      "and we have conjured them by the Ties of our common Kindred to disavow these Usurpations, which, would  \n",
      "inevitably interrupt our Connections and Correspondence. They too have been deaf to the Voice of Justice and of \n",
      "Consanguinity. We must, therefore, acquiesce in the Necessity, which denounces our Separation, and hold them,  \n",
      "as we hold the rest of Mankind, Enemies in War, in Peace, Friends.\n",
      "We, therefore, the Representatives of the UNITED STATES OF AMERICA, in General Congress, Assembled, ap-\n",
      "pealing to the Supreme Judge of the World for the Rectitude of our Intentions, do, in the Name, and by Authority \n",
      "of the good People of these Colonies, solemnly Publish and Declare, That these United Colonies are, and of Right \n",
      "ought to be, FREE AND INDEPENDENT STATES, that they are absolved from all Allegiance to the British Crown, \n",
      "and that all political Connection between them and the State of Great-Britain, is and ought to be totally dissolved; \n",
      "and that as FREE AND INDEPENDENT STATES, they have full Power to levy War, conclude Peace, contract Alli-\n",
      "ances, establish Commerce, and to do all other Acts and Things which INDEPENDENT STATES may of right do. \n",
      "And for the support of this Declaration, with a firm Reliance on the Protection of divine Providence, we mutually \n",
      "pledge to each other our Lives, our fortunes, and our sacred Honor.\n",
      "© Oak Hill Publishing Company.  All rights reserved.\n",
      "Oak Hill Publishing Company.  Box 6473, Naperville, IL 60567 To learn more about the Constitution — the people, the events, the landmark cases —\n",
      "order a copy of “The U.S. Constitution and Fascinating Facts About It” today!\n",
      "Call to order: 1-800-887-6661 or order online at www.constitutionfacts.com\n",
      "\n",
      "\n",
      "3\n",
      "\n",
      "\n",
      "\n",
      "\n",
      "\n",
      "\n",
      "\n",
      "\n"
     ]
    }
   ],
   "source": [
    "for page in pdf_text:\n",
    "    print(page)\n",
    "    print('\\n')\n",
    "    print('\\n')\n",
    "    print('\\n')\n",
    "    print('\\n')"
   ]
  },
  {
   "cell_type": "code",
   "execution_count": null,
   "id": "ac4d9c54",
   "metadata": {},
   "outputs": [],
   "source": []
  }
 ],
 "metadata": {
  "kernelspec": {
   "display_name": "Python 3 (ipykernel)",
   "language": "python",
   "name": "python3"
  },
  "language_info": {
   "codemirror_mode": {
    "name": "ipython",
    "version": 3
   },
   "file_extension": ".py",
   "mimetype": "text/x-python",
   "name": "python",
   "nbconvert_exporter": "python",
   "pygments_lexer": "ipython3",
   "version": "3.9.7"
  }
 },
 "nbformat": 4,
 "nbformat_minor": 5
}
